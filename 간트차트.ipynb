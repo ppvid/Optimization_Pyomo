{
 "cells": [
  {
   "cell_type": "markdown",
   "id": "0045fc6d",
   "metadata": {},
   "source": [
    "라이브러리와 데이터 정의 "
   ]
  },
  {
   "cell_type": "code",
   "execution_count": 1,
   "id": "81f08f75",
   "metadata": {},
   "outputs": [],
   "source": [
    "from pyomo.environ import *\n",
    "import matplotlib.pyplot as plt\n",
    "\n",
    "JOBS={\n",
    "    'A':{'release':2,'duration':5 ,'due':10},\n",
    "    'B':{'release':5,'duration':6 ,'due':21},\n",
    "    'C':{'release':4,'duration':8 ,'due':15},\n",
    "    'D':{'release':0,'duration':4 ,'due':10},\n",
    "    'E':{'release':0,'duration':2 ,'due':5},\n",
    "    'F':{'release':8,'duration':3 ,'due':15},\n",
    "    'G':{'release':9,'duration':2 ,'due':22}\n",
    "}   "
   ]
  },
  {
   "cell_type": "markdown",
   "id": "efd1faf2",
   "metadata": {},
   "source": [
    "간트차트 함수 생성 "
   ]
  },
  {
   "cell_type": "code",
   "execution_count": null,
   "id": "1ea4d720",
   "metadata": {},
   "outputs": [],
   "source": [
    "def gantt(JOBS,SCHEDULE={}):\n",
    "    bw=0.3 #bar width 설정 \n",
    "    plt.figure(figsize=(10,0,4*(len(JOBS.keys())))) #그래프 크기 정하기\n",
    "\n",
    "    idx=0\n",
    "    for j in sorted(JOBS.keys()):\n",
    "        x=JOBS[j]['release']\n",
    "        y=JOBS[j]['due']\n",
    "        plt.fill_between([x,y],[idx-bw,idx-bw],[idx+bw,idx+bw],color='cyan',alpha=0.6)\n",
    "\n",
    "        if j in SCHEDULE.keys():\n",
    "            x=SCHEDULE[j]['start']\n",
    "            y=SCHEDULE[j]['finish']\n",
    "            plt.fill_between([x,y],[idx-bw,idx-bw],[idx+bw,idx+bw],color='red',alpha=0.5)\n",
    "            plt.plot([x,y,y,x,x],[idx-bw,idx-bw,idx+bw,idx+bw,idx-bw],color='k')\n",
    "            #plt.text(x축 위치,y축 위치,text)\n",
    "            plt.text((SCHEDULE[j]['start']+SCHEDULE[j]['finish'])/2.0,idx,'Job'+j,color='white',weight='bold')\n"
   ]
  }
 ],
 "metadata": {
  "kernelspec": {
   "display_name": "smart00",
   "language": "python",
   "name": "python3"
  },
  "language_info": {
   "codemirror_mode": {
    "name": "ipython",
    "version": 3
   },
   "file_extension": ".py",
   "mimetype": "text/x-python",
   "name": "python",
   "nbconvert_exporter": "python",
   "pygments_lexer": "ipython3",
   "version": "3.13.3"
  }
 },
 "nbformat": 4,
 "nbformat_minor": 5
}
